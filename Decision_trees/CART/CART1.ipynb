{
  "nbformat": 4,
  "nbformat_minor": 0,
  "metadata": {
    "colab": {
      "name": "CART1.ipynb",
      "provenance": []
    },
    "kernelspec": {
      "name": "python3",
      "display_name": "Python 3"
    }
  },
  "cells": [
    {
      "cell_type": "code",
      "metadata": {
        "id": "9AHhEAvf1pdH",
        "colab_type": "code",
        "colab": {}
      },
      "source": [
        "#training data\n",
        "training_data = [\n",
        "    ['Green', 3, 'Apple'],\n",
        "    ['Yellow', 3, 'Apple'],\n",
        "    ['Red', 1, 'Grape'],\n",
        "    ['Red', 1, 'Grape'],\n",
        "    ['Yellow', 3, 'Lemon'],\n",
        "]"
      ],
      "execution_count": 7,
      "outputs": []
    },
    {
      "cell_type": "code",
      "metadata": {
        "id": "9s3P1S69Q651",
        "colab_type": "code",
        "colab": {}
      },
      "source": [
        "header = ['color','diameter','label']"
      ],
      "execution_count": 8,
      "outputs": []
    },
    {
      "cell_type": "code",
      "metadata": {
        "id": "yP1H8VtNZLwT",
        "colab_type": "code",
        "colab": {}
      },
      "source": [
        "def uniques_values(rows,col):\n",
        "  return set([row[col] for row in rows])"
      ],
      "execution_count": 9,
      "outputs": []
    },
    {
      "cell_type": "code",
      "metadata": {
        "id": "0zVxLP-SZew0",
        "colab_type": "code",
        "colab": {}
      },
      "source": [
        "def is_numeric(value):\n",
        "  return isinstance(value,int) or isinstance(value,float)"
      ],
      "execution_count": 10,
      "outputs": []
    },
    {
      "cell_type": "code",
      "metadata": {
        "id": "RIYsSIbZZ3Gk",
        "colab_type": "code",
        "colab": {}
      },
      "source": [
        "class Question:\n",
        "  def __init__(self,col,val):\n",
        "    self.col = col\n",
        "    self.val = val\n",
        "\n",
        "  def match(self,example):\n",
        "    v = example[self.col]\n",
        "    if is_numeric(v):\n",
        "      return v>=self.val\n",
        "    else:\n",
        "      return v==self.val\n",
        "    \n",
        "  def __repr__(self):\n",
        "    condition = '=='\n",
        "    if is_numeric(self.val):\n",
        "      condition = '>='\n",
        "    return 'Is %s %s %s?'%(header[self.col],condition,str(self.val))"
      ],
      "execution_count": 26,
      "outputs": []
    },
    {
      "cell_type": "code",
      "metadata": {
        "id": "iFMMEUuLc6ze",
        "colab_type": "code",
        "colab": {}
      },
      "source": [
        "def partition(rows,question):\n",
        "  true_rows,false_rows = [],[]\n",
        "  for row in rows:\n",
        "        if question.match(row):\n",
        "            true_rows.append(row)\n",
        "        else:\n",
        "            false_rows.append(row)\n",
        "  return true_rows, false_rows"
      ],
      "execution_count": 12,
      "outputs": []
    },
    {
      "cell_type": "code",
      "metadata": {
        "id": "uW95KfE1emKR",
        "colab_type": "code",
        "colab": {}
      },
      "source": [
        "def info_gain(left,right,current_uncertainity):\n",
        "  p = float(len(left)/(len(left)+len(right)))\n",
        "  return current_uncertainity - p*gini(left)- (1-p)*gini(right)"
      ],
      "execution_count": 14,
      "outputs": []
    },
    {
      "cell_type": "code",
      "metadata": {
        "id": "qq2i3-7Jfs1m",
        "colab_type": "code",
        "colab": {}
      },
      "source": [
        "class Leaf:\n",
        "  def __init__(self,rows):\n",
        "    self.predictions = class_count(rows)"
      ],
      "execution_count": 15,
      "outputs": []
    },
    {
      "cell_type": "code",
      "metadata": {
        "id": "ZoWt0w0qf2E5",
        "colab_type": "code",
        "colab": {}
      },
      "source": [
        "class Decision_Node:\n",
        "  def __init__(self,question,true_branch,false_branch):\n",
        "\n",
        "    self.question = question\n",
        "    self.true_branch = true_branch\n",
        "    self.false_branch = false_branch"
      ],
      "execution_count": 23,
      "outputs": []
    },
    {
      "cell_type": "code",
      "metadata": {
        "id": "YvzzhYP_SkL3",
        "colab_type": "code",
        "colab": {}
      },
      "source": [
        "def class_count(rows):\n",
        "  counts = {}\n",
        "  for row in rows:\n",
        "    label = row[-1]\n",
        "    if label not in counts:\n",
        "      counts[label]=1\n",
        "    else:\n",
        "      counts[label]+=1\n",
        "  return counts\n",
        "\n",
        "\n",
        "def gini(rows):\n",
        "  counts = class_count(rows)\n",
        "  impurity = 1\n",
        "  probs = 0\n",
        "  for label in counts:\n",
        "    probs += (counts[label]/len(rows))**2\n",
        "  gini_index = impurity - probs\n",
        "  return gini_index\n",
        "\n",
        "\n",
        "\n",
        "def find_best_split(rows):\n",
        "  best_gain=0\n",
        "  best_question=None\n",
        "  current_uncertainity = gini(rows)\n",
        "  n_features = len(rows[0])-1\n",
        "\n",
        "  for col in range(n_features):\n",
        "\n",
        "    values = set([row[col] for row in rows])\n",
        "    for val in values:\n",
        "      question = Question(col,val)\n",
        "\n",
        "      true_rows, false_rows = partition(rows,question)\n",
        "      if len(true_rows)==0 or len(false_rows)==0:\n",
        "        continue\n",
        "      gain = info_gain(true_rows,false_rows,current_uncertainity)\n",
        "\n",
        "      if gain>=best_gain:\n",
        "        best_gain,best_question = gain,question\n",
        "  return best_gain,best_question"
      ],
      "execution_count": 17,
      "outputs": []
    },
    {
      "cell_type": "code",
      "metadata": {
        "id": "a9TNKNjURAYU",
        "colab_type": "code",
        "colab": {}
      },
      "source": [
        "#building tree function\n",
        "def build_tree(rows):\n",
        "  gain,question = find_best_split(rows)\n",
        "\n",
        "  if gain==0:\n",
        "    return Leaf(rows)\n",
        "\n",
        "  true_rows,false_rows = partition(rows,question)\n",
        "  true_branch = build_tree(true_rows)\n",
        "  false_branch = build_tree(false_rows)\n",
        "  return Decision_Node(question,true_branch,false_branch)"
      ],
      "execution_count": 18,
      "outputs": []
    },
    {
      "cell_type": "code",
      "metadata": {
        "id": "z8Xz_ZwvgSG0",
        "colab_type": "code",
        "colab": {}
      },
      "source": [
        "def print_tree(node, spacing=\"\"):\n",
        "    \"\"\"World's most elegant tree printing function.\"\"\"\n",
        "\n",
        "    # Base case: we've reached a leaf\n",
        "    if isinstance(node, Leaf):\n",
        "        print (spacing + \"Predict\", node.predictions)\n",
        "        return\n",
        "\n",
        "    # Print the question at this node\n",
        "    print (spacing + str(node.question))\n",
        "\n",
        "    # Call this function recursively on the true branch\n",
        "    print (spacing + '--> True:')\n",
        "    print_tree(node.true_branch, spacing + \"  \")\n",
        "\n",
        "    # Call this function recursively on the false branch\n",
        "    print (spacing + '--> False:')\n",
        "    print_tree(node.false_branch, spacing + \"  \")"
      ],
      "execution_count": 19,
      "outputs": []
    },
    {
      "cell_type": "code",
      "metadata": {
        "id": "J2-NjNqQgTTn",
        "colab_type": "code",
        "colab": {}
      },
      "source": [
        "my_tree = build_tree(training_data)"
      ],
      "execution_count": 27,
      "outputs": []
    },
    {
      "cell_type": "code",
      "metadata": {
        "id": "doMVAfftgk__",
        "colab_type": "code",
        "colab": {
          "base_uri": "https://localhost:8080/",
          "height": 170
        },
        "outputId": "7b7cf4a3-2b80-453a-9533-9245b27bda9a"
      },
      "source": [
        "print_tree(my_tree)"
      ],
      "execution_count": 28,
      "outputs": [
        {
          "output_type": "stream",
          "text": [
            "Is diameter >= 3?\n",
            "--> True:\n",
            "  Is color == Yellow?\n",
            "  --> True:\n",
            "    Predict {'Apple': 1, 'Lemon': 1}\n",
            "  --> False:\n",
            "    Predict {'Apple': 1}\n",
            "--> False:\n",
            "  Predict {'Grape': 2}\n"
          ],
          "name": "stdout"
        }
      ]
    }
  ]
}